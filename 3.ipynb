{
 "cells": [
  {
   "cell_type": "markdown",
   "metadata": {},
   "source": [
    "Task-03\n",
    "\n",
    "Implement a support vector machine (SVM) to classify images of cats and dogs from the Kaggle dataset\n",
    "Dataset used-https://www.microsoft.com/en-us/download/details.aspx?id=54765"
   ]
  },
  {
   "cell_type": "code",
   "execution_count": 1,
   "metadata": {},
   "outputs": [],
   "source": [
    "#importing library\n",
    "import pandas as pd\n",
    "import numpy as np\n",
    "import cv2\n",
    "import os\n",
    "import matplotlib.pyplot as plt\n",
    "import zipfile\n",
    "from sklearn.model_selection import train_test_split\n",
    "from sklearn.svm import SVC"
   ]
  },
  {
   "cell_type": "code",
   "execution_count": 2,
   "metadata": {},
   "outputs": [
    {
     "data": {
      "text/plain": [
       "'\\nzip_path = \\'C:\\\\Users\\\\Shaurya\\\\Downloads\\\\kagglecatsanddogs_5340.zip\\'\\nextract_path = \\'C:\\\\Users\\\\Shaurya\\\\Downloads\\\\kagglecatsanddogs_5340\\'\\n\\n# Extract the ZIP file\\nwith zipfile.ZipFile(zip_path, \\'r\\') as zip_ref:\\n    zip_ref.extractall(extract_path)\\n\\nprint(\"Extraction complete.\")\\n'"
      ]
     },
     "execution_count": 2,
     "metadata": {},
     "output_type": "execute_result"
    }
   ],
   "source": [
    "#extract zip file\n",
    "'''\n",
    "zip_path = 'C:\\\\Users\\\\Shaurya\\\\Downloads\\\\kagglecatsanddogs_5340.zip'\n",
    "extract_path = 'C:\\\\Users\\\\Shaurya\\\\Downloads\\\\kagglecatsanddogs_5340'\n",
    "\n",
    "# Extract the ZIP file\n",
    "with zipfile.ZipFile(zip_path, 'r') as zip_ref:\n",
    "    zip_ref.extractall(extract_path)\n",
    "\n",
    "print(\"Extraction complete.\")\n",
    "'''"
   ]
  },
  {
   "cell_type": "code",
   "execution_count": 3,
   "metadata": {},
   "outputs": [
    {
     "data": {
      "text/plain": [
       "\"# converting the images to required dataframe\\ndir='C:\\\\Users\\\\Shaurya\\\\Downloads\\\\kagglecatsanddogs_5340\\\\PetImages'\\nanimals=['Cat','Dog']\\ndata=[]\\n \\nfor animal in animals:\\n    path=os.path.join(dir,animal) \\n    label=animals.index(animal)\\n    i=0\\n    for img in os.listdir(path):\\n        print('i:',i)\\n        i+=1\\n        img_path=os.path.join(path,img)\\n        animal_img=cv2.imread(img_path,0)\\n        try:\\n            animal_img=cv2.resize(animal_img,(64,64))\\n            image=np.array(animal_img).flatten()\\n            data.append([image,label])\\n        except Exception as e:\\n            pass   \\n\""
      ]
     },
     "execution_count": 3,
     "metadata": {},
     "output_type": "execute_result"
    }
   ],
   "source": [
    "# converting the images to required dataframe\n",
    "dir='C:\\\\Users\\\\Shaurya\\\\Downloads\\\\kagglecatsanddogs_5340\\\\PetImages'\n",
    "animals=['Cat','Dog']\n",
    "data=[]\n",
    " \n",
    "for animal in animals:\n",
    "    path=os.path.join(dir,animal) \n",
    "    label=animals.index(animal)\n",
    "    i=0\n",
    "    for img in os.listdir(path):\n",
    "        print('i:',i)\n",
    "        i+=1\n",
    "        img_path=os.path.join(path,img)\n",
    "        animal_img=cv2.imread(img_path,0)\n",
    "        try:\n",
    "            animal_img=cv2.resize(animal_img,(64,64))\n",
    "            image=np.array(animal_img).flatten()\n",
    "            data.append([image,label])\n",
    "        except Exception as e:\n",
    "            pass   "
   ]
  },
  {
   "cell_type": "code",
   "execution_count": 4,
   "metadata": {},
   "outputs": [
    {
     "data": {
      "text/plain": [
       "\"#breaking the data into features and labels\\nfeatures=[]\\nlabels=[]\\nfor feature,label in data:\\n    features.append(feature)\\n    labels.append(label)\\nfeatures=np.array(features)\\nlabels=np.array(labels)\\n#converting the features and labels into dataframe\\ndf=pd.DataFrame(features)\\ndf['label']=labels\\ndf\\n\""
      ]
     },
     "execution_count": 4,
     "metadata": {},
     "output_type": "execute_result"
    }
   ],
   "source": [
    "#breaking the data into features and labels\n",
    "features=[]\n",
    "labels=[]\n",
    "for feature,label in data:\n",
    "    features.append(feature)\n",
    "    labels.append(label)\n",
    "features=np.array(features)\n",
    "labels=np.array(labels)\n",
    "#converting the features and labels into dataframe\n",
    "df=pd.DataFrame(features)\n",
    "df['label']=labels\n",
    "df\n",
    "\n"
   ]
  },
  {
   "cell_type": "code",
   "execution_count": 5,
   "metadata": {},
   "outputs": [
    {
     "data": {
      "text/plain": [
       "\"#storing df as csv file\\ndf.to_csv('Dataframe.csv',index=False)\\n\""
      ]
     },
     "execution_count": 5,
     "metadata": {},
     "output_type": "execute_result"
    }
   ],
   "source": [
    "#storing df as csv file\n",
    "df.to_csv('Dataframe.csv',index=False)\n"
   ]
  },
  {
   "cell_type": "code",
   "execution_count": 6,
   "metadata": {},
   "outputs": [
    {
     "data": {
      "text/html": [
       "<div>\n",
       "<style scoped>\n",
       "    .dataframe tbody tr th:only-of-type {\n",
       "        vertical-align: middle;\n",
       "    }\n",
       "\n",
       "    .dataframe tbody tr th {\n",
       "        vertical-align: top;\n",
       "    }\n",
       "\n",
       "    .dataframe thead th {\n",
       "        text-align: right;\n",
       "    }\n",
       "</style>\n",
       "<table border=\"1\" class=\"dataframe\">\n",
       "  <thead>\n",
       "    <tr style=\"text-align: right;\">\n",
       "      <th></th>\n",
       "      <th>0</th>\n",
       "      <th>1</th>\n",
       "      <th>2</th>\n",
       "      <th>3</th>\n",
       "      <th>4</th>\n",
       "      <th>5</th>\n",
       "      <th>6</th>\n",
       "      <th>7</th>\n",
       "      <th>8</th>\n",
       "      <th>9</th>\n",
       "      <th>...</th>\n",
       "      <th>4087</th>\n",
       "      <th>4088</th>\n",
       "      <th>4089</th>\n",
       "      <th>4090</th>\n",
       "      <th>4091</th>\n",
       "      <th>4092</th>\n",
       "      <th>4093</th>\n",
       "      <th>4094</th>\n",
       "      <th>4095</th>\n",
       "      <th>label</th>\n",
       "    </tr>\n",
       "  </thead>\n",
       "  <tbody>\n",
       "    <tr>\n",
       "      <th>0</th>\n",
       "      <td>170</td>\n",
       "      <td>176</td>\n",
       "      <td>183</td>\n",
       "      <td>188</td>\n",
       "      <td>192</td>\n",
       "      <td>196</td>\n",
       "      <td>199</td>\n",
       "      <td>202</td>\n",
       "      <td>204</td>\n",
       "      <td>208</td>\n",
       "      <td>...</td>\n",
       "      <td>8</td>\n",
       "      <td>4</td>\n",
       "      <td>3</td>\n",
       "      <td>3</td>\n",
       "      <td>2</td>\n",
       "      <td>2</td>\n",
       "      <td>2</td>\n",
       "      <td>2</td>\n",
       "      <td>2</td>\n",
       "      <td>0</td>\n",
       "    </tr>\n",
       "    <tr>\n",
       "      <th>1</th>\n",
       "      <td>43</td>\n",
       "      <td>43</td>\n",
       "      <td>35</td>\n",
       "      <td>41</td>\n",
       "      <td>37</td>\n",
       "      <td>44</td>\n",
       "      <td>44</td>\n",
       "      <td>35</td>\n",
       "      <td>40</td>\n",
       "      <td>34</td>\n",
       "      <td>...</td>\n",
       "      <td>64</td>\n",
       "      <td>39</td>\n",
       "      <td>37</td>\n",
       "      <td>56</td>\n",
       "      <td>58</td>\n",
       "      <td>53</td>\n",
       "      <td>70</td>\n",
       "      <td>63</td>\n",
       "      <td>31</td>\n",
       "      <td>0</td>\n",
       "    </tr>\n",
       "    <tr>\n",
       "      <th>2</th>\n",
       "      <td>44</td>\n",
       "      <td>45</td>\n",
       "      <td>47</td>\n",
       "      <td>56</td>\n",
       "      <td>57</td>\n",
       "      <td>52</td>\n",
       "      <td>57</td>\n",
       "      <td>50</td>\n",
       "      <td>52</td>\n",
       "      <td>46</td>\n",
       "      <td>...</td>\n",
       "      <td>79</td>\n",
       "      <td>98</td>\n",
       "      <td>142</td>\n",
       "      <td>161</td>\n",
       "      <td>140</td>\n",
       "      <td>137</td>\n",
       "      <td>153</td>\n",
       "      <td>170</td>\n",
       "      <td>158</td>\n",
       "      <td>0</td>\n",
       "    </tr>\n",
       "    <tr>\n",
       "      <th>3</th>\n",
       "      <td>222</td>\n",
       "      <td>222</td>\n",
       "      <td>230</td>\n",
       "      <td>225</td>\n",
       "      <td>230</td>\n",
       "      <td>228</td>\n",
       "      <td>225</td>\n",
       "      <td>225</td>\n",
       "      <td>230</td>\n",
       "      <td>227</td>\n",
       "      <td>...</td>\n",
       "      <td>240</td>\n",
       "      <td>234</td>\n",
       "      <td>227</td>\n",
       "      <td>212</td>\n",
       "      <td>205</td>\n",
       "      <td>205</td>\n",
       "      <td>220</td>\n",
       "      <td>214</td>\n",
       "      <td>213</td>\n",
       "      <td>0</td>\n",
       "    </tr>\n",
       "    <tr>\n",
       "      <th>4</th>\n",
       "      <td>112</td>\n",
       "      <td>122</td>\n",
       "      <td>77</td>\n",
       "      <td>92</td>\n",
       "      <td>133</td>\n",
       "      <td>166</td>\n",
       "      <td>127</td>\n",
       "      <td>195</td>\n",
       "      <td>211</td>\n",
       "      <td>226</td>\n",
       "      <td>...</td>\n",
       "      <td>96</td>\n",
       "      <td>103</td>\n",
       "      <td>95</td>\n",
       "      <td>89</td>\n",
       "      <td>90</td>\n",
       "      <td>94</td>\n",
       "      <td>106</td>\n",
       "      <td>93</td>\n",
       "      <td>87</td>\n",
       "      <td>0</td>\n",
       "    </tr>\n",
       "    <tr>\n",
       "      <th>...</th>\n",
       "      <td>...</td>\n",
       "      <td>...</td>\n",
       "      <td>...</td>\n",
       "      <td>...</td>\n",
       "      <td>...</td>\n",
       "      <td>...</td>\n",
       "      <td>...</td>\n",
       "      <td>...</td>\n",
       "      <td>...</td>\n",
       "      <td>...</td>\n",
       "      <td>...</td>\n",
       "      <td>...</td>\n",
       "      <td>...</td>\n",
       "      <td>...</td>\n",
       "      <td>...</td>\n",
       "      <td>...</td>\n",
       "      <td>...</td>\n",
       "      <td>...</td>\n",
       "      <td>...</td>\n",
       "      <td>...</td>\n",
       "      <td>...</td>\n",
       "    </tr>\n",
       "    <tr>\n",
       "      <th>16496</th>\n",
       "      <td>220</td>\n",
       "      <td>220</td>\n",
       "      <td>219</td>\n",
       "      <td>186</td>\n",
       "      <td>233</td>\n",
       "      <td>205</td>\n",
       "      <td>239</td>\n",
       "      <td>239</td>\n",
       "      <td>239</td>\n",
       "      <td>236</td>\n",
       "      <td>...</td>\n",
       "      <td>218</td>\n",
       "      <td>218</td>\n",
       "      <td>60</td>\n",
       "      <td>62</td>\n",
       "      <td>69</td>\n",
       "      <td>61</td>\n",
       "      <td>58</td>\n",
       "      <td>69</td>\n",
       "      <td>66</td>\n",
       "      <td>1</td>\n",
       "    </tr>\n",
       "    <tr>\n",
       "      <th>16497</th>\n",
       "      <td>119</td>\n",
       "      <td>108</td>\n",
       "      <td>91</td>\n",
       "      <td>74</td>\n",
       "      <td>75</td>\n",
       "      <td>0</td>\n",
       "      <td>0</td>\n",
       "      <td>0</td>\n",
       "      <td>2</td>\n",
       "      <td>28</td>\n",
       "      <td>...</td>\n",
       "      <td>29</td>\n",
       "      <td>28</td>\n",
       "      <td>35</td>\n",
       "      <td>23</td>\n",
       "      <td>31</td>\n",
       "      <td>28</td>\n",
       "      <td>27</td>\n",
       "      <td>28</td>\n",
       "      <td>99</td>\n",
       "      <td>1</td>\n",
       "    </tr>\n",
       "    <tr>\n",
       "      <th>16498</th>\n",
       "      <td>142</td>\n",
       "      <td>145</td>\n",
       "      <td>133</td>\n",
       "      <td>73</td>\n",
       "      <td>60</td>\n",
       "      <td>59</td>\n",
       "      <td>64</td>\n",
       "      <td>59</td>\n",
       "      <td>59</td>\n",
       "      <td>56</td>\n",
       "      <td>...</td>\n",
       "      <td>110</td>\n",
       "      <td>95</td>\n",
       "      <td>110</td>\n",
       "      <td>103</td>\n",
       "      <td>109</td>\n",
       "      <td>86</td>\n",
       "      <td>102</td>\n",
       "      <td>101</td>\n",
       "      <td>93</td>\n",
       "      <td>1</td>\n",
       "    </tr>\n",
       "    <tr>\n",
       "      <th>16499</th>\n",
       "      <td>32</td>\n",
       "      <td>42</td>\n",
       "      <td>37</td>\n",
       "      <td>48</td>\n",
       "      <td>48</td>\n",
       "      <td>44</td>\n",
       "      <td>40</td>\n",
       "      <td>39</td>\n",
       "      <td>46</td>\n",
       "      <td>38</td>\n",
       "      <td>...</td>\n",
       "      <td>50</td>\n",
       "      <td>41</td>\n",
       "      <td>43</td>\n",
       "      <td>38</td>\n",
       "      <td>42</td>\n",
       "      <td>39</td>\n",
       "      <td>38</td>\n",
       "      <td>32</td>\n",
       "      <td>25</td>\n",
       "      <td>1</td>\n",
       "    </tr>\n",
       "    <tr>\n",
       "      <th>16500</th>\n",
       "      <td>97</td>\n",
       "      <td>101</td>\n",
       "      <td>107</td>\n",
       "      <td>111</td>\n",
       "      <td>96</td>\n",
       "      <td>95</td>\n",
       "      <td>87</td>\n",
       "      <td>92</td>\n",
       "      <td>91</td>\n",
       "      <td>94</td>\n",
       "      <td>...</td>\n",
       "      <td>72</td>\n",
       "      <td>39</td>\n",
       "      <td>34</td>\n",
       "      <td>34</td>\n",
       "      <td>41</td>\n",
       "      <td>93</td>\n",
       "      <td>107</td>\n",
       "      <td>137</td>\n",
       "      <td>126</td>\n",
       "      <td>1</td>\n",
       "    </tr>\n",
       "  </tbody>\n",
       "</table>\n",
       "<p>8001 rows × 4097 columns</p>\n",
       "</div>"
      ],
      "text/plain": [
       "         0    1    2    3    4    5    6    7    8    9  ...  4087  4088  \\\n",
       "0      170  176  183  188  192  196  199  202  204  208  ...     8     4   \n",
       "1       43   43   35   41   37   44   44   35   40   34  ...    64    39   \n",
       "2       44   45   47   56   57   52   57   50   52   46  ...    79    98   \n",
       "3      222  222  230  225  230  228  225  225  230  227  ...   240   234   \n",
       "4      112  122   77   92  133  166  127  195  211  226  ...    96   103   \n",
       "...    ...  ...  ...  ...  ...  ...  ...  ...  ...  ...  ...   ...   ...   \n",
       "16496  220  220  219  186  233  205  239  239  239  236  ...   218   218   \n",
       "16497  119  108   91   74   75    0    0    0    2   28  ...    29    28   \n",
       "16498  142  145  133   73   60   59   64   59   59   56  ...   110    95   \n",
       "16499   32   42   37   48   48   44   40   39   46   38  ...    50    41   \n",
       "16500   97  101  107  111   96   95   87   92   91   94  ...    72    39   \n",
       "\n",
       "       4089  4090  4091  4092  4093  4094  4095  label  \n",
       "0         3     3     2     2     2     2     2      0  \n",
       "1        37    56    58    53    70    63    31      0  \n",
       "2       142   161   140   137   153   170   158      0  \n",
       "3       227   212   205   205   220   214   213      0  \n",
       "4        95    89    90    94   106    93    87      0  \n",
       "...     ...   ...   ...   ...   ...   ...   ...    ...  \n",
       "16496    60    62    69    61    58    69    66      1  \n",
       "16497    35    23    31    28    27    28    99      1  \n",
       "16498   110   103   109    86   102   101    93      1  \n",
       "16499    43    38    42    39    38    32    25      1  \n",
       "16500    34    34    41    93   107   137   126      1  \n",
       "\n",
       "[8001 rows x 4097 columns]"
      ]
     },
     "execution_count": 6,
     "metadata": {},
     "output_type": "execute_result"
    }
   ],
   "source": [
    "df_orig=pd.read_csv('Dataframe.csv')\n",
    "df=pd.concat([df_orig[:4000],df_orig[12500:16501]])\n",
    "df"
   ]
  },
  {
   "cell_type": "code",
   "execution_count": 7,
   "metadata": {},
   "outputs": [],
   "source": [
    "# creating testing and training data\n",
    "X=df.drop('label',axis=1)\n",
    "y=df['label']\n",
    "X_train,X_test,y_train,y_test=train_test_split(X,y, test_size=0.2, random_state=4)"
   ]
  },
  {
   "cell_type": "code",
   "execution_count": 8,
   "metadata": {},
   "outputs": [
    {
     "name": "stdout",
     "output_type": "stream",
     "text": [
      "(6400, 4096)\n",
      "(1601, 4096)\n",
      "(6400,)\n",
      "(1601,)\n"
     ]
    },
    {
     "data": {
      "text/plain": [
       "749      0\n",
       "15111    1\n",
       "15704    1\n",
       "13688    1\n",
       "13500    1\n",
       "        ..\n",
       "15845    1\n",
       "2227     0\n",
       "12523    1\n",
       "1372     0\n",
       "3551     0\n",
       "Name: label, Length: 1601, dtype: int64"
      ]
     },
     "execution_count": 8,
     "metadata": {},
     "output_type": "execute_result"
    }
   ],
   "source": [
    "#checking the shape of the data\n",
    "print(X_train.shape)\n",
    "print(X_test.shape)\n",
    "print(y_train.shape)\n",
    "print(y_test.shape)\n",
    "y_test"
   ]
  },
  {
   "cell_type": "code",
   "execution_count": 9,
   "metadata": {},
   "outputs": [],
   "source": [
    "# creating SVM model\n",
    "model=SVC(kernel='rbf')\n",
    "model.fit(X_train,y_train)\n",
    "prediction=model.predict(X_test)\n",
    "accuracy=model.score(X_test,y_test)\n",
    "print('Accuracy: ',accuracy)"
   ]
  },
  {
   "cell_type": "code",
   "execution_count": null,
   "metadata": {},
   "outputs": [
    {
     "data": {
      "text/plain": [
       "\"# creating SVM model\\nmodel=SVC(C=1,kernel='poly',gamma='auto')\\nmodel.fit(X_train,y_train)\\nprediction=model.predict(X_test)\\naccuracy=model.score(X_test,y_test)\\nprint('Accuracy: ',accuracy)\""
      ]
     },
     "execution_count": 252,
     "metadata": {},
     "output_type": "execute_result"
    }
   ],
   "source": [
    "'''# creating SVM model\n",
    "model=SVC(C=1,kernel='poly',gamma='auto')\n",
    "model.fit(X_train,y_train)\n",
    "prediction=model.predict(X_test)\n",
    "accuracy=model.score(X_test,y_test)\n",
    "print('Accuracy: ',accuracy)'''"
   ]
  },
  {
   "cell_type": "code",
   "execution_count": null,
   "metadata": {},
   "outputs": [
    {
     "name": "stdout",
     "output_type": "stream",
     "text": [
      "Prediction for 1st image: Cat\n",
      "Actual 1st image: Cat\n"
     ]
    },
    {
     "data": {
      "image/png": "[encoded data removed]",
      "text/plain": [
       "<Figure size 640x480 with 1 Axes>"
      ]
     },
     "metadata": {},
     "output_type": "display_data"
    }
   ],
   "source": [
    "animals=['Cat','Dog']\n",
    "print(\"Prediction for 1st image:\",animals[prediction[0]])\n",
    "actual=animals[y_test.iloc[0]]\n",
    "print(\"Actual 1st image:\",actual)\n",
    "#plotting the image\n",
    "plt.imshow(X_test.iloc[0].values.reshape(64,64),cmap='gray')\n",
    "plt.show()\n"
   ]
  },
  {
   "cell_type": "code",
   "execution_count": null,
   "metadata": {},
   "outputs": [
    {
     "data": {
      "text/plain": [
       "\"'#plotting the actual image\\ngiven_features=X_test.iloc[0].values             \\n#equating the given features to find the index of the image\\nfor i in range(len(features)):\\n    if np.array_equal(features[i],given_features):\\n        index=i\\n        break\\nactual_img_path=os.path.join(dir,animals[labels[index]])\\nactual_img=cv2.imread(actual_img_path,0)\\nplt.imshow(actual_img,cmap='gray')\\nplt.show()\""
      ]
     },
     "execution_count": 242,
     "metadata": {},
     "output_type": "execute_result"
    }
   ],
   "source": [
    "''''#plotting the actual image\n",
    "given_features=X_test.iloc[0].values             \n",
    "#equating the given features to find the index of the image\n",
    "for i in range(len(features)):\n",
    "    if np.array_equal(features[i],given_features):\n",
    "        index=i\n",
    "        break\n",
    "actual_img_path=os.path.join(dir,animals[labels[index]])\n",
    "actual_img=cv2.imread(actual_img_path,0)\n",
    "plt.imshow(actual_img,cmap='gray')\n",
    "plt.show()'''\n",
    "    "
   ]
  }
 ],
 "metadata": {
  "kernelspec": {
   "display_name": "Python 3",
   "language": "python",
   "name": "python3"
  },
  "language_info": {
   "codemirror_mode": {
    "name": "ipython",
    "version": 3
   },
   "file_extension": ".py",
   "mimetype": "text/x-python",
   "name": "python",
   "nbconvert_exporter": "python",
   "pygments_lexer": "ipython3",
   "version": "3.12.2"
  }
 },
 "nbformat": 4,
 "nbformat_minor": 2
}
